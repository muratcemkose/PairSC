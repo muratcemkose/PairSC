{
 "cells": [
  {
   "cell_type": "code",
   "execution_count": 11,
   "metadata": {
    "ExecuteTime": {
     "end_time": "2019-06-05T13:13:39.520165Z",
     "start_time": "2019-06-05T13:13:39.515179Z"
    }
   },
   "outputs": [],
   "source": [
    "import os\n",
    "import numpy as np\n",
    "import pandas as pd\n",
    "import PairSC\n",
    "import Utils\n",
    "import scanpy as sc\n",
    "import DE"
   ]
  },
  {
   "cell_type": "code",
   "execution_count": 12,
   "metadata": {
    "ExecuteTime": {
     "end_time": "2019-06-05T13:13:42.286762Z",
     "start_time": "2019-06-05T13:13:39.523159Z"
    }
   },
   "outputs": [],
   "source": [
    "# Loading reference dataset and reference annotation\n",
    "refDataset = pd.read_csv(\"./Data/References/10X/10X_data.csv\", sep=\",\", decimal = \",\", index_col = 0)\n",
    "refDataset = refDataset.astype('float')\n",
    "refAnnot = pd.read_csv(\"./Data/References/10X/10X_annot.csv\",sep=\",\", index_col = 0)"
   ]
  },
  {
   "cell_type": "code",
   "execution_count": 13,
   "metadata": {
    "ExecuteTime": {
     "end_time": "2019-06-05T13:13:43.918395Z",
     "start_time": "2019-06-05T13:13:42.288757Z"
    }
   },
   "outputs": [],
   "source": [
    "# Loading single cell data\n",
    "scData = Utils.readSCData(\"./Data/\",250)"
   ]
  },
  {
   "cell_type": "code",
   "execution_count": 14,
   "metadata": {
    "ExecuteTime": {
     "end_time": "2019-06-05T13:13:43.986214Z",
     "start_time": "2019-06-05T13:13:43.919393Z"
    }
   },
   "outputs": [],
   "source": [
    "# Creating PairSC object\n",
    "obj = PairSC.createObject(refDataset=refDataset,refAnnot=refAnnot,refName=\"SampleRef\")"
   ]
  },
  {
   "cell_type": "code",
   "execution_count": 15,
   "metadata": {
    "ExecuteTime": {
     "end_time": "2019-06-05T13:13:46.968232Z",
     "start_time": "2019-06-05T13:13:43.988209Z"
    }
   },
   "outputs": [],
   "source": [
    "# Adding te single cell data to the PairSC object\n",
    "# Warning: Once the program runs, it save the DE genes according to refName and scName,\n",
    "# in case these names are used again, it uses the same DE genes. So if the user changes \n",
    "# the reference or the single cell data, it is highly reccomended to change the names as well.\n",
    "obj.addScData(scData,scName=\"SampleSC\")"
   ]
  },
  {
   "cell_type": "code",
   "execution_count": 16,
   "metadata": {
    "ExecuteTime": {
     "end_time": "2019-06-05T13:13:48.157084Z",
     "start_time": "2019-06-05T13:13:46.970227Z"
    }
   },
   "outputs": [
    {
     "name": "stderr",
     "output_type": "stream",
     "text": [
      "100%|██████████████████████████████████████████████████████████████████████████████| 100.0/100 [00:01<00:00, 96.60it/s]\n"
     ]
    }
   ],
   "source": [
    "# Obtainig cell types\n",
    "obj.getCellTypes()"
   ]
  },
  {
   "cell_type": "code",
   "execution_count": 17,
   "metadata": {
    "ExecuteTime": {
     "end_time": "2019-06-05T13:13:48.751462Z",
     "start_time": "2019-06-05T13:13:48.160044Z"
    }
   },
   "outputs": [
    {
     "ename": "AttributeError",
     "evalue": "'createObject' object has no attribute 'getDriverGenes'",
     "output_type": "error",
     "traceback": [
      "\u001b[1;31m---------------------------------------------------------------------------\u001b[0m",
      "\u001b[1;31mAttributeError\u001b[0m                            Traceback (most recent call last)",
      "\u001b[1;32m<ipython-input-17-95700c57ebad>\u001b[0m in \u001b[0;36m<module>\u001b[1;34m()\u001b[0m\n\u001b[0;32m      1\u001b[0m \u001b[1;31m# Generationg driver genes.\u001b[0m\u001b[1;33m\u001b[0m\u001b[1;33m\u001b[0m\u001b[0m\n\u001b[1;32m----> 2\u001b[1;33m \u001b[0mobj\u001b[0m\u001b[1;33m.\u001b[0m\u001b[0mgetDriverGenes\u001b[0m\u001b[1;33m(\u001b[0m\u001b[1;33m)\u001b[0m\u001b[1;33m\u001b[0m\u001b[0m\n\u001b[0m",
      "\u001b[1;31mAttributeError\u001b[0m: 'createObject' object has no attribute 'getDriverGenes'"
     ]
    }
   ],
   "source": [
    "# Generationg driver genes.\n",
    "obj.getDriverGenes()"
   ]
  },
  {
   "cell_type": "code",
   "execution_count": null,
   "metadata": {
    "ExecuteTime": {
     "end_time": "2019-06-05T13:13:48.751462Z",
     "start_time": "2019-06-05T13:13:39.547Z"
    }
   },
   "outputs": [],
   "source": [
    "# Obtaining UMAP\n",
    "# Warning: This function is still experimental. Alternatively, UMAP can be generated from the obj.scData by the user.\n",
    "obj.getUMAP(False)"
   ]
  },
  {
   "cell_type": "code",
   "execution_count": null,
   "metadata": {
    "ExecuteTime": {
     "end_time": "2019-06-05T13:13:48.753456Z",
     "start_time": "2019-06-05T13:13:39.551Z"
    }
   },
   "outputs": [],
   "source": [
    "# Obtaining gene expression dispersion.\n",
    "# The user can ethier enter a cell type, to visualize driver genes, or his/her gene of interest.\n",
    "obj.getDriverDispersion(cellType=\"B_cells\",geneList= None)"
   ]
  },
  {
   "cell_type": "code",
   "execution_count": null,
   "metadata": {
    "ExecuteTime": {
     "end_time": "2019-06-05T13:13:48.754453Z",
     "start_time": "2019-06-05T13:13:39.555Z"
    }
   },
   "outputs": [],
   "source": [
    "# Driver genes generated by the algorithm.\n",
    "obj.driverGenes"
   ]
  },
  {
   "cell_type": "code",
   "execution_count": null,
   "metadata": {
    "ExecuteTime": {
     "end_time": "2019-06-05T12:50:52.506727Z",
     "start_time": "2019-06-05T12:50:52.499715Z"
    }
   },
   "outputs": [],
   "source": []
  },
  {
   "cell_type": "code",
   "execution_count": null,
   "metadata": {
    "ExecuteTime": {
     "end_time": "2019-06-05T12:50:52.995388Z",
     "start_time": "2019-06-05T12:50:52.982448Z"
    }
   },
   "outputs": [],
   "source": []
  },
  {
   "cell_type": "code",
   "execution_count": null,
   "metadata": {
    "ExecuteTime": {
     "end_time": "2019-06-05T12:53:36.625956Z",
     "start_time": "2019-06-05T12:53:32.458369Z"
    }
   },
   "outputs": [],
   "source": []
  },
  {
   "cell_type": "code",
   "execution_count": null,
   "metadata": {
    "ExecuteTime": {
     "end_time": "2019-06-05T12:50:22.692027Z",
     "start_time": "2019-06-05T12:50:22.678065Z"
    }
   },
   "outputs": [],
   "source": []
  },
  {
   "cell_type": "code",
   "execution_count": null,
   "metadata": {},
   "outputs": [],
   "source": []
  }
 ],
 "metadata": {
  "hide_input": false,
  "kernelspec": {
   "display_name": "Python 3",
   "language": "python",
   "name": "python3"
  },
  "language_info": {
   "codemirror_mode": {
    "name": "ipython",
    "version": 3
   },
   "file_extension": ".py",
   "mimetype": "text/x-python",
   "name": "python",
   "nbconvert_exporter": "python",
   "pygments_lexer": "ipython3",
   "version": "3.7.0"
  },
  "toc": {
   "base_numbering": 1,
   "nav_menu": {},
   "number_sections": true,
   "sideBar": true,
   "skip_h1_title": false,
   "title_cell": "Table of Contents",
   "title_sidebar": "Contents",
   "toc_cell": false,
   "toc_position": {},
   "toc_section_display": true,
   "toc_window_display": false
  },
  "varInspector": {
   "cols": {
    "lenName": 16,
    "lenType": 16,
    "lenVar": 40
   },
   "kernels_config": {
    "python": {
     "delete_cmd_postfix": "",
     "delete_cmd_prefix": "del ",
     "library": "var_list.py",
     "varRefreshCmd": "print(var_dic_list())"
    },
    "r": {
     "delete_cmd_postfix": ") ",
     "delete_cmd_prefix": "rm(",
     "library": "var_list.r",
     "varRefreshCmd": "cat(var_dic_list()) "
    }
   },
   "types_to_exclude": [
    "module",
    "function",
    "builtin_function_or_method",
    "instance",
    "_Feature"
   ],
   "window_display": false
  }
 },
 "nbformat": 4,
 "nbformat_minor": 2
}
